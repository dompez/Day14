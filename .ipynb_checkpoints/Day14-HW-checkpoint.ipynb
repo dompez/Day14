{
 "cells": [
  {
   "cell_type": "markdown",
   "id": "6ce44393-3036-4c90-904f-1e85718f57fb",
   "metadata": {},
   "source": [
    "## Introduction to Data Science\n",
    "\n",
    "#### University of Redlands - DATA 101\n",
    "#### Prof: Joanna Bieri [joanna_bieri@redlands.edu](mailto:joanna_bieri@redlands.edu)\n",
    "#### [Class Website: data101.joannabieri.com](https://joannabieri.com/data101.html)\n",
    "\n",
    "---------------------------------------\n",
    "# Homework Day 14\n",
    "---------------------------------------\n",
    "\n",
    "GOALS:\n",
    "\n",
    "1. Reflect on Algorithmic bias\n",
    "2. Consider your role in Data Ethics\n",
    "3. Report on your reading.\n",
    "\n",
    "----------------------------------------------------------\n",
    "\n",
    "This homework has **3 questions** and **1 reading report**"
   ]
  },
  {
   "cell_type": "markdown",
   "id": "d0c422e3-32b1-452f-89a8-2586784d3957",
   "metadata": {},
   "source": [
    "## Important Information\n",
    "\n",
    "- Email: [joanna_bieri@redlands.edu](mailto:joanna_bieri@redlands.edu)\n",
    "- Office Hours: Duke 209 <a href=\"https://joannabieri.com/schedule.html\"> Click Here for Joanna's Schedule</a>\n",
    "\n",
    "## Day 14 Assignment - same drill.\n",
    "\n",
    "1. Make sure you can **Fork** and **Clone** the Day14 repo from [Redlands-DATA101](https://github.com/Redlands-DATA101)\n",
    "2. Open the file Day14-HW.ipynb and start doing the problems.\n",
    "    * You can do these problems as you follow along with the lecture notes and video.\n",
    "3. Get as far as you can before class.\n",
    "4. Submit what you have so far **Commit** and **Push** to Git.\n",
    "5. Take the daily check in quiz on **Canvas**.\n",
    "7. Come to class with lots of questions!\n",
    "\n",
    "## If you start having trouble with git!!!\n",
    "\n",
    "Some people have reported that GIT is disappearing or giving errors on when they try to use it in Jupyter Lab. Here is another option for interacting with git:\n",
    "\n",
    "[Git Desktop](https://github.com/apps/desktop)\n",
    "\n",
    "If yous start having errors, try downloading this app. I can show you how to use it in class."
   ]
  },
  {
   "cell_type": "markdown",
   "id": "a4d57d24-4326-4529-bbab-9e23c09d42a9",
   "metadata": {},
   "source": [
    "## Report on your Data Ethics reading:\n",
    "\n",
    "**Your answers should be written as neatly as possible in Markdown cells**\n",
    "\n",
    "Your homework for today is all essay and written work. Make sure you respond to the three questions in the lecture:"
   ]
  },
  {
   "cell_type": "markdown",
   "id": "8cce7435-3030-4c66-aeb4-5c1a6281d7ae",
   "metadata": {},
   "source": [
    "**Q1** What is your response to our discussion of bias in algorithms? Talk about the pluses and minuses of using algorithms to make decisions in our human world."
   ]
  },
  {
   "cell_type": "markdown",
   "id": "e44db119-b92c-46ca-804e-a4b5cf697e62",
   "metadata": {},
   "source": [
    "I firmly believe there shouldn't be algorithmic-lead descision making processes when it can cost a person their livelihood or even their lives. Such as when determining if a convict will re-offend, due to it being biased, we should not use the result on a case-by-case basis. \n",
    "\n",
    "One plus for using algorithms from decision making can be determining the purchasing habits of a person and advertising it them them, given they consent to it. In this case, it cannot be biased as it is being trained off of the same person's purchasing or viewing trends. "
   ]
  },
  {
   "cell_type": "markdown",
   "id": "14f51c89-f75c-4af1-b306-83961dee55d2",
   "metadata": {},
   "source": [
    "**Q2**\n",
    "How do you train yourself to make the right decisions (or reduce the likelihood of accidentally making the wrong decisions) at those points?"
   ]
  },
  {
   "cell_type": "markdown",
   "id": "43ffbd60-0be8-4b48-b01f-0b37042e2e53",
   "metadata": {},
   "source": [
    "In the real world it can be either pain or pleasure which'll train me to make the right decisions, or even gain vs loss. This is a reinforcement learning system. However, what works for me can't guarantee it'll work from another person. "
   ]
  },
  {
   "cell_type": "markdown",
   "id": "cacd720e-7d42-4df7-9f91-d312ede8101d",
   "metadata": {},
   "source": [
    "**Q3**\n",
    "How do you respond when you see bias in someones work? How could you take action to educate others?"
   ]
  },
  {
   "cell_type": "markdown",
   "id": "a93db113-8124-44db-ab7e-be8d1eddecf2",
   "metadata": {},
   "source": [
    "If I see bias in someone's work, I must understand the context for the bias. If it is blatant and unprecedented, the best way to educate someone is to present object data to prove otherwise."
   ]
  },
  {
   "cell_type": "markdown",
   "id": "83fd9f27-cbd2-45fb-8dff-f81297ec184e",
   "metadata": {},
   "source": [
    "**Reading Report**\n",
    "\n",
    "Write a report about what you learned from your ethics reading exploration. For each book/article you read:\n",
    "\n",
    "1. Include a full proper reference to the book/article.\n",
    "   * BOOK: Author last name, First name. Book Title: Subtitle. Edition, Publisher, Year.\n",
    "   * ONLINE ARTICLE: Author last name, First name. Article Title. Website name, date accessed. html link.\n",
    "   * [MLA styles for citing other types of online work](https://style.mla.org/works-cited/citations-by-format/online-works/?gad_source=1)\n",
    "2. Write a summary in your own words what the book/article was about. Imagine telling your classmates about what they would learn by reading the article.\n",
    "3. Discuss your own reaction to the book/article. Did it have any effect on how you think about data and ethics? Do you agree with the author? What specific ideas really stood out to you?"
   ]
  },
  {
   "cell_type": "markdown",
   "id": "bf53176f-7926-4d4e-967c-5b5bbd011abe",
   "metadata": {},
   "source": [
    "**Q1**\n",
    "Cote, Catherine, 5 Principles of Data Ethics for Business, Harvard Business School Online, 10-20-24, https://online.hbs.edu/blog/post/data-ethics.\n",
    "\n",
    "Rouzies, Dominique, The Ethics of Managing People's Data, Harvard Business Review, 10-18-24, https://hbr.org/2023/07/the-ethics-of-managing-peoples-data\n",
    "\n",
    "Blackman, Reid, A Practical Guide to Building Ethical AI, Harvard Business Review, 10-31-24, https://hbr.org/2020/10/a-practical-guide-to-building-ethical-ai"
   ]
  },
  {
   "cell_type": "markdown",
   "id": "6a527f22-684c-4aee-aa4d-afd435a9c996",
   "metadata": {},
   "source": [
    "**Q2**\n"
   ]
  },
  {
   "cell_type": "markdown",
   "id": "7335bfa0-82c0-46d7-9734-f4300dedfa54",
   "metadata": {},
   "source": [
    "**Q3**"
   ]
  },
  {
   "cell_type": "markdown",
   "id": "9ca89bb8-e1ea-4af6-aea6-faf8874deaf2",
   "metadata": {},
   "source": [
    "**Reading Report**"
   ]
  },
  {
   "cell_type": "markdown",
   "id": "c6faae4b-ce39-4695-a87f-99e40bda1322",
   "metadata": {},
   "source": [
    "\n",
    "-------------------------------------------------------\n",
    "\n",
    "## Further watching\n",
    "\n",
    "If you have time, really explore the world of data ethics. You could watch some of the videos linked from class.\n",
    "\n",
    "### Weapons of Math Destruction | Cathy O'Neil | Talks at Google\n",
    "\n",
    "{{< video https://www.youtube.com/watch?v=TQHs8SA1qpk >}}\n",
    "\n",
    "### Imagining a Future Free from the Algorithms of Oppression | Safiya Noble | ACL 2019\n",
    "\n",
    "{{< video https://www.youtube.com/watch?v=tNi_U1Bb1S0 >}}\n",
    "\n",
    "### Whats An Algorithm Got To Do With It\n",
    "\n",
    "{{< video https://www.youtube.com/watch?v=5zxDwA99soA >}}"
   ]
  }
 ],
 "metadata": {
  "kernelspec": {
   "display_name": "Python 3 (ipykernel)",
   "language": "python",
   "name": "python3"
  },
  "language_info": {
   "codemirror_mode": {
    "name": "ipython",
    "version": 3
   },
   "file_extension": ".py",
   "mimetype": "text/x-python",
   "name": "python",
   "nbconvert_exporter": "python",
   "pygments_lexer": "ipython3",
   "version": "3.11.7"
  }
 },
 "nbformat": 4,
 "nbformat_minor": 5
}
